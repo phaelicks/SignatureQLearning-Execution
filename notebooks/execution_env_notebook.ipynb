{
 "cells": [
  {
   "cell_type": "markdown",
   "metadata": {},
   "source": [
    "## Imports"
   ]
  },
  {
   "cell_type": "code",
   "execution_count": 1,
   "metadata": {},
   "outputs": [],
   "source": [
    "%run base.ipynb\n",
    "%load_ext autoreload\n",
    "%autoreload 2\n",
    "\n",
    "import pickle\n",
    "from tqdm.notebook import tqdm\n",
    "\n",
    "import gym\n",
    "import matplotlib.pyplot as plt\n",
    "import numpy as np\n",
    "import tabulate\n",
    "\n",
    "from abides_gym_custom_execution_environment import SubGymMarketsCustomExecutionEnv\n",
    "from sigqlearning_qfunctions import SigQFunction\n",
    "from sigqlearning_test_execution import test\n",
    "from sigqlearning_train_execution import train\n",
    "from sigqlearning_baseline_execution import run_baseline\n",
    "import utils"
   ]
  },
  {
   "cell_type": "markdown",
   "metadata": {},
   "source": [
    "## Register the environment as gym environment"
   ]
  },
  {
   "cell_type": "code",
   "execution_count": 2,
   "metadata": {},
   "outputs": [],
   "source": [
    "# register execution env for gym use \n",
    "from gym.envs.registration import register\n",
    "\n",
    "register(\n",
    "    id=\"custom-execution-v0\",\n",
    "    entry_point=SubGymMarketsCustomExecutionEnv,\n",
    ")"
   ]
  },
  {
   "cell_type": "code",
   "execution_count": 3,
   "metadata": {},
   "outputs": [],
   "source": [
    "# environment parameters\n",
    "env_params = dict(\n",
    "    background_config = \"rmsc04\",\n",
    "    mkt_close = \"10:06:00\",\n",
    "    timestep_duration = \"10s\",\n",
    "    first_interval = \"00:05:00\",\n",
    "    observation_interval = \"00:00:00\",            \n",
    "    order_fixed_size = 50,\n",
    "    max_inventory = 1000,\n",
    "    starting_inventory = 700,\n",
    "    terminal_inventory_reward = -1., # reward or penalty\n",
    "    terminal_inventory_mode = 'quadratic', # quadratic, linear, flat\n",
    "    running_inventory_reward_dampener = 0.6, # 0.6, 1.0\n",
    "    damp_mode = \"asymmetric\", # asymmetric\n",
    "    debug_mode = False\n",
    ")\n",
    "\n",
    "# helper function to generate environment with specified parameters\n",
    "def generate_env(seed=None):\n",
    "    \"\"\"\n",
    "    generates specific environment with the parameters defined and set the seed\n",
    "    \"\"\"\n",
    "    env = gym.make(id = \"custom-execution-v0\", **env_params)\n",
    "    if seed is not None:\n",
    "        env.seed(seed)\n",
    "    return env\n"
   ]
  },
  {
   "cell_type": "code",
   "execution_count": 4,
   "metadata": {},
   "outputs": [],
   "source": [
    "# generate the custom execution environment\n",
    "env = generate_env()"
   ]
  },
  {
   "cell_type": "markdown",
   "metadata": {},
   "source": [
    "## Training\n",
    "\n",
    "### Training parameters"
   ]
  },
  {
   "cell_type": "code",
   "execution_count": 39,
   "metadata": {},
   "outputs": [],
   "source": [
    "# signature parameters\n",
    "sigq_params = dict(\n",
    "    sig_depth = 5,\n",
    "    basepoint = True, \n",
    "    initial_bias = 0.01\n",
    ")\n",
    "\n",
    "# training parameter\n",
    "training_params = dict(\n",
    "    episodes = 200,\n",
    "    discount = 1.0,\n",
    "    learning_rate = 1e-6, #1e-4,\n",
    "    learning_rate_decay = dict(mode=None), #dict(mode='linear', end_value=1e-6, epochs=1000), \n",
    "        #dict(mode='exponential', factor=0.998, end_value=1e-07),\n",
    "    exploration = 'greedy',\n",
    "    epsilon = 0.02, # 0.8,\n",
    "    epsilon_decay = dict(mode='linear', end_value=0.0, epochs=200),\n",
    "    decay_mode = 'episodes',\n",
    "    debug_mode = None,\n",
    "    progress_display = 'livelossplot'\n",
    ")"
   ]
  },
  {
   "cell_type": "markdown",
   "metadata": {},
   "source": [
    "### Learn a Q-function estimate\n",
    "Learn a Q-function estimate with Signature-Q-learning. We run 5 different seeds.\n",
    "\n",
    "**Note**: This code cell takes a long time to run. Would recommend to copy this cell in a python script and let it run in the back with [screen](https://linuxize.com/post/how-to-use-linux-screen/) or [tmux](https://www.hamvocke.com/blog/a-quick-and-easy-guide-to-tmux/) for instance. "
   ]
  },
  {
   "cell_type": "code",
   "execution_count": 26,
   "metadata": {},
   "outputs": [],
   "source": [
    "last_Q_function = training_results_dict[0]['intermediate'][-1]"
   ]
  },
  {
   "cell_type": "code",
   "execution_count": null,
   "metadata": {},
   "outputs": [],
   "source": [
    "# number of training runs\n",
    "n_runs = 1\n",
    "\n",
    "# dict to store results\n",
    "training_results_dict = {run : [] for run in range(n_runs)}\n",
    "training_seeds = {\n",
    "    run : seed for run, seed \n",
    "    in zip(training_results_dict, utils.generate_prime_seeds(n_runs))\n",
    "}\n",
    "final_Q_functions = {}\n",
    "\n",
    "# training runs\n",
    "runs_pbar = tqdm(training_results_dict.keys())\n",
    "for run in runs_pbar:\n",
    "    runs_pbar.set_description(f\"Training run\")\n",
    "    \n",
    "    env = generate_env(training_seeds[run])\n",
    "    sigqfunction = SigQFunction(env, **sigq_params)\n",
    "    sigqfunction.load_state_dict(last_Q_function)\n",
    "    training_results_dict[run] = train(env, sigqfunction, **training_params)\n",
    "    final_Q_functions[run] = sigqfunction.state_dict()\n",
    "    del sigqfunction, env # for safety in case env.reset() does not work properly"
   ]
  },
  {
   "cell_type": "markdown",
   "metadata": {},
   "source": [
    "### Save training results\n",
    "\n",
    "**Note**: Training results are saved under `../results/file_name + today + id`, where `today` is the current date\n",
    "in the form `%Y%M%d` and `id` an upper case letter to identifiy multiple files saved on the same date."
   ]
  },
  {
   "cell_type": "code",
   "execution_count": null,
   "metadata": {},
   "outputs": [],
   "source": [
    "file_name = \"custom_execution_training\"\n",
    "results_dict=dict(training_results=training_results_dict, final_Q_functions=final_Q_functions,\n",
    "                  sig_params=sigq_params, training_params=training_params, env_params=env_params)\n",
    "date_time_id = utils.save_results(results_dict, file_name)"
   ]
  },
  {
   "cell_type": "code",
   "execution_count": 8,
   "metadata": {},
   "outputs": [],
   "source": [
    "# custom_execution_v0_full_dampening\n",
    "# 5 runs, i_0 = 400, oder_size=100, execution action space, with convergence to optimal policy, trunc at 7, expl 500 epis, eps_start 0.8, eps_end 0.02, lr 1e-4 to 1e-6 in 1000 epis , epis 1000, seeds 3,2,5,7,1, quadratic penalty C=-1, basepoint=T, discount=1., damp=1.\n",
    "\n",
    "# custom_execution_v0_training_no_dampening\n",
    "# 2 runs, i_0 = 400, oder_size=100, execution action space, with convergence to suboptimal policy, trunc at 7, expl 500 epis, eps_start 0.8, eps_end 0.02, lr 1e-4 to 1e-7 in 1000 epis , epis 1000, seeds (1,2) , quadratic penalty C=-1, basepoint=T, discount=1., damp=0.\n",
    "# both runs not fully optimal, first only reduced down to 200, second overshoots then buys again and ends around -100\n",
    "\n",
    "# custom_execution_v0_training_no_dampening_2\n",
    "# 1 run, i_0 = 400, oder_size=100, execution action space, with convergence to optimal policy, trunc at 7, expl 500 epis, eps_start 0.8, eps_end 0.02, lr 1e-4 to 1e-6 in 1000 epis , epis 1000, seeds 1 , quadratic penalty C=-1, basepoint=T, discount=1., damp=0.\n",
    "\n",
    "# custom_execution_v0_training_no_dampening_3\n",
    "# 1 run, i_0 = 400, oder_size=100, execution action space, with convergence to SUBoptimal policy, trunc at 7, expl 500 epis, eps_start 0.8, eps_end 0.02, lr 1e-4 to 1e-6 in 1000 epis , epis 1000, seeds 1 , quadratic penalty C=-1, basepoint=T, discount=.99, damp=0.\n",
    "\n",
    "# custom_execution_v0_training_no_dampening_4\n",
    "# 5 runs, i_0 = 400, oder_size=100, execution action space, some runs with convergence to suboptimal policy, trunc at 7, expl 500 epis, eps_start 0.8, eps_end 0.02, lr 1e-4 to 1e-6 in 1000 epis , epis 1000, seeds 1,2,3,5,7 , quadratic penalty C=-1, basepoint=T, discount=.99, damp=0.\n",
    "# unstable training, mainly learns to leave inventory untouched\n",
    "\n",
    "# custom_execution_v0_training_no_dampening_5\n",
    "# 5 runs, i_0 = 400, oder_size=100, execution action space, some runs with only one convergence to optimal policy, trunc at 7, expl 500 epis, eps_start 0.8, eps_end 0.02, lr 1e-4 to 1e-6 in 1000 epis , epis 1000, seeds 1,2,3,5,7 , quadratic penalty C=-1, basepoint=T, discount=1., damp=0.\n",
    "# only run 2 learned an acceptable policy, number of episodes to little, reduction from high exploration to low to fast\n",
    "\n",
    "# INVALID – RUN AGAIN\n",
    "# custom_execution_v0_training_no_dampening_6\n",
    "# 2 runs, i_0 = 400, oder_size=100, execution action space, some runs with convergence to suboptimal policy, trunc at 7, expl 1000 epis, eps_start 0.8, eps_end 0.02, lr 1e-4 to 1e-6 in 2000 epis , epis 2000, seeds 5,7 , quadratic penalty C=-1, basepoint=T, discount=1., damp=0.\n",
    "# both runs a bit suboptimal, first reduces too much end in [-200, 0], second also a little too much but good\n",
    "\n",
    "# INVALID - RUN AGAIN \n",
    "# custom_execution_v0_training_no_dampening_7\n",
    "# 2 runs, i_0 = 400, oder_size=100, execution action space, some runs with ?? convergence to optimal policy, trunc at 7, expl 1000 epis, eps_start 0.8, eps_end 0.02, lr 1e-4 to 1e-6 in 2000 epis , epis 2000, seeds 5,7 , quadratic penalty C=-1, basepoint=T, discount=.99, damp=0.\n",
    "# run 0 it learned a suboptimal policy, run a nearly optimal\n",
    "\n",
    "# custom_execution_v0_training_no_dampening_8\n",
    "# 2 runs, i_0 = 400, oder_size=100, execution action space, one run with convergence to optimal policy, trunc at 7, expl 1000 epis, eps_start 0.8, eps_end 0.02, lr exp decay from 1e-3 with 0.995 , epis 2000, seeds 7,5 , quadratic penalty C=-1, basepoint=T, discount=.99, damp=0. \n",
    "# first runs optimal, second run shit\n",
    "\n",
    "# custom_execution_v0_training_no_dampening_9\n",
    "# 5 runs, i_0 = 400, oder_size=100, execution action space, no run with convergence to optimal policy, trunc at 7, expl 1000 epis, eps_start 0.8, eps_end 0.02, lr exp decay from 1e-3 with 0.995 , epis 2000, seeds 1,2,3,5,7 , quadratic penalty C=-1, basepoint=T, discount=.99, damp=0. \n",
    "# shitty shit shit, why?\n",
    "\n",
    "# custom_execution_v0_training_no_dampening_10\n",
    "# 2 runs, i_0 = 400, oder_size=100, execution action space, with some convergence to optimal policy, trunc at 7, expl 1000 epis, eps_start 0.5, eps_end 0.02, lr exp decay from 1e-4 with 0.997 , epis 2000, seeds 1,2 , quadratic penalty C=-1, basepoint=T, discount=1., damp=0. \n",
    "# first run did not learn anything, second suboptimal reduces only to 200 high variance, lr decay too fast\n",
    "\n",
    "# custom_execution_v0_training_no_dampening_11\n",
    "# 2 runs, i_0 = 400, oder_size=100, execution action space, with some convergence to optimal policy, trunc at 7, expl 1000 epis, eps_start 0.5, eps_end 0.02, lr episode exp decay from 1e-4 with 0.998 , epis 2000, seeds 1,2 , quadratic penalty C=-1, basepoint=T, discount=1., damp=0. \n",
    "# first run did not learn much reduces only 300, second suboptimal reduces reduces a bit too much to -100\n",
    "\n",
    "# ------ -------\n",
    "# custom_execution_v0_training_no_dampening_12\n",
    "# eps_start = 0.8 eps_end = 0.02, discount = 1.0\n",
    "# 2 runs, i_0 = 400, oder_size=100, execution action space, convergence to almost optimal policy, trunc at 7, expl 1000 epis, eps_start 0.8, eps_end 0.02, lr 1e-4 to 1e-7 in 2000 epis , epis 2000, seeds 1,2 , quadratic penalty C=-1, basepoint=T, discount=1., damp=0.\n",
    "# both runs convergence to almost optimal policy, 2nd a bit better, both overshoot a little at beginning then buy again\n",
    "# for intermediate -3, testing was even slightly better\n",
    "# first Q values converge to mean reward with reward window [-200:0]\n",
    "\n",
    "# custom_execution_v0_training_no_dampening_13\n",
    "# eps_start = 0.8 eps_end = 0.02, discount = 0.99\n",
    "# 2 runs, i_0 = 400, oder_size=100, execution action space, convergence optimal policy, trunc at 7, expl 1000 epis, eps_start 0.8, eps_end 0.02, lr 1e-4 to 1e-7 in 2000 epis , epis 2000, seeds 1,2 , quadratic penalty C=-1, basepoint=T, discount=.99, damp=0.\n",
    "# even a better than _12, it does not overshoot reduction of inventory, range of terminal inventory is smaller\n",
    "# first run sometimes sells at end of episode, second run very stable \n",
    "# for intermediate -3 testing run_1 was better, run_2 sells to much at episode end, before would be really good\n",
    "# first Q converges to value a bit below mean reward for both runs\n",
    "\n",
    "# custom_execution_v0_training_no_dampening_14\n",
    "# eps_start = 0.8 eps_end = 0.01, discount = 0.99\n",
    "# 2 runs, i_0 = 400, oder_size=100, execution action space, convergence optimal policy, trunc at 7, expl 1000 epis, eps_start 0.8, eps_end 0.01, lr 1e-4 to 1e-7 in 2000 epis , epis 2000, seeds 1,2 , quadratic penalty C=-1, basepoint=T, discount=.99, damp=0.\n",
    "# second run is really good, first run only reduces down to ~200 unfortunately \n",
    "\n",
    "# custom_execution_v0_training_no_dampening_15\n",
    "# eps_start = 0.8 eps_end = 0.01, discount = 1.0\n",
    "# 2 runs, i_0 = 400, oder_size=100, execution action space, convergence optimal policy, trunc at 7, expl 1000 epis, eps_start 0.8, eps_end 0.01, lr 1e-4 to 1e-7 in 2000 epis , epis 2000, seeds 1,2 , quadratic penalty C=-1, basepoint=T, discount=1.0, damp=0.\n",
    "# First run learned nothing, reduces way too much than overshoots buying. Second run ok but in range [0, -200]\n",
    "\n",
    "# ------ with eps start 0.5 ------\n",
    "# custom_execution_v0_training_no_dampening_16\n",
    "# eps_start = 0.5, eps_end = 0.02, discount = 1.0\n",
    "# 2 runs, i_0 = 400, oder_size=100, execution action space, with no convergence to optimal policy, trunc at 7, expl 1000 epis, eps_start 0.5, eps_end 0.02, lr 1e-4 to 1e-7 in 2000 epis , epis 2000, seeds 1,2 , quadratic penalty C=-1, basepoint=T, discount=1., damp=0.\n",
    "# no run did learn a good Q estimate\n",
    "# first Q values did not converge properly\n",
    "\n",
    "# custom_execution_v0_training_no_dampening_17\n",
    "# eps_start = 0.5, eps_end = 0.02, discount = 0.99\n",
    "# 2 runs, i_0 = 400, oder_size=100, execution action space, no convergence to optimal policy, trunc at 7, expl 1000 epis, eps_start 0.5, eps_end 0.02, lr 1e-4 to 1e-7 in 2000 epis , epis 2000, seeds 1,2 , quadratic penalty C=-1, basepoint=T, discount=.99, damp=0.\n",
    "# first run failed to converge, highly unstable in training, second run learned suboptimal policy, that reduces to 300 and only at end to 200\n",
    "# first Q values did not converge\n",
    "\n",
    "# ------ with decay mode 'steps' ------\n",
    "# custom_execution_v0_training_no_dampening_18\n",
    "# eps_start = 0.5, eps_end = 0.02, discount = 1.0, linear step decay\n",
    "# 2 runs, i_0 = 400, oder_size=100, execution action space, with ?? convergence to optimal policy, trunc at 7, expl 1000*181 steps, eps_start 0.5, eps_end 0.02, lr 1e-4 to 1e-7 in 2000*181 steps , epis 2000, seeds 1,2 , quadratic penalty C=-1, basepoint=T, discount=1., damp=0.\n",
    "# 1st run suboptimal, reduced inventory but to a range [-100,100] and overshoot in buying and selling at beginning\n",
    "# 2nd run did not learn anything useful\n",
    "\n",
    "# custom_execution_v0_training_no_dampening_19\n",
    "# eps_start = 0.8, eps_end = 0.02, discount = 1.0, linear step decay\n",
    "# 2 runs, i_0 = 400, oder_size=100, execution action space, with ?? convergence to optimal policy, trunc at 7, expl 1000*181 steps, eps_start 0.8, eps_end 0.02, lr 1e-4 to 1e-7 in 2000*181 steps , epis 2000, seeds 1,2 , quadratic penalty C=-1, basepoint=T, discount=1., damp=0.\n",
    "# 1st run did not learn good policy, reduced halfway through the episode not stable\n",
    "# 2nd run better, overshoots a little, intermediate at -31 is perfect\n",
    "\n",
    "# custom_execution_v0_training_no_dampening_20\n",
    "# eps_start = 1.0, eps_end = 0.02, discount = 1.0, linear step decay\n",
    "# 2 runs, i_0 = 400, oder_size=100, execution action space, with some convergence to optimal policy, trunc at 7, expl 1000*181 steps, eps_start 1.0, eps_end 0.02, lr 1e-4 to 1e-7 in 2000*181 steps , epis 2000, seeds 1,2 , quadratic penalty C=-1, basepoint=T, discount=1., damp=0.\n",
    "# 1st run suboptimal, wide range of terminal inventory on [-100,100]\n",
    "# 2nd run learned good policy, but not particularly better than other cases with episode decay\n",
    "# BUT perfect convergence of 1st Q value to mean reward !\n",
    "\n",
    "# custom_execution_v0_training_no_dampening_20a\n",
    "# eps_start = 1.0, eps_end = 0.02, discount = 1.0, linear step decay, order size = 50\n",
    "# 2 runs, i_0 = 400, oder_size=50, execution action space, with some convergence to optimal policy, trunc at 7, expl 1000*181 steps, eps_start 1.0, eps_end 0.02, lr 1e-4 to 1e-7 in 2000*181 steps , epis 2000, seeds 1,2 , quadratic penalty C=-1, basepoint=T, discount=1., damp=0.\n",
    "# ADD DESCRIPTION\n",
    "\n",
    "# TO RUN\n",
    "\n",
    "# custom_execution_v0_training_no_dampening_21\n",
    "# eps_start = 1.0, eps_end = 0.02, discount = 1.0, linear step decay, lr start 5*1e-5\n",
    "# 2 runs, i_0 = 400, oder_size=100, execution action space, with ?? convergence to optimal policy, trunc at 7, expl 1000*181 steps, eps_start 1.0, eps_end 0.02, lr 5*1e-5 to 1e-7 in 2000*181 steps , epis 2000, seeds 1,2 , quadratic penalty C=-1, basepoint=T, discount=1., damp=0.\n",
    "\n",
    "# custom_execution_v0_training_no_dampening_22\n",
    "# eps_start = 1.0, eps_end = 0.02, discount = 1.0, exp step decay\n",
    "# 2 runs, i_0 = 400, oder_size=100, execution action space, with ?? convergence to optimal policy, trunc at 7, expl 1000*181 steps, eps_start 1.0, eps_end 0.02, lr exp step decay from 1e-4 with 0.999985 , epis 2000, seeds 1,2 , quadratic penalty C=-1, basepoint=T, discount=1., damp=0.\n",
    "\n",
    "# custom_execution_v0_training_no_dampening_23\n",
    "# eps_start = 0.5, eps_end = 0.02, discount = 0.99\n",
    "# 2 runs, i_0 = 400, oder_size=100, execution action space, with ?? convergence to optimal policy, trunc at 7, expl 1000*181 steps, eps_start 0.5, eps_end 0.02, lr 1e-4 to 1e-7 in 2000*181 steps , epis 2000, seeds 1,2 , quadratic penalty C=-1, basepoint=T, discount=.99, damp=0.\n",
    "# NO NEED FOR THIS ONE\n",
    "\n",
    "# custom_execution_v0_training_no_dampening_24\n",
    "# eps_start = 0.8, eps_end = 0.02, discount = 0.99\n",
    "# 2 runs, i_0 = 400, oder_size=100, execution action space, with ?? convergence to optimal policy, trunc at 7, expl 1000*181 steps, eps_start 0.8, eps_end 0.02, lr 1e-4 to 1e-7 in 2000*181 steps , epis 2000, seeds 1,2 , quadratic penalty C=-1, basepoint=T, discount=.99, damp=0.\n",
    "\n",
    "# -------------\n",
    "# custom_execution_v0_training_no_dampening_100\n",
    "# eps_start = 0.8, eps_end = 0.02, discount = 1.0, linear step decay, order size = 50, current_inv as reward\n",
    "# 2 runs, i_0 = 400, oder_size=100, execution action space, with ?? convergence to optimal policy, trunc at 7, expl 1000*181 steps, eps_start 1.0, eps_end 0.02, lr 1e-4 to 1e-7 in 2000*181 steps , epis 2000, seeds 1,2 , quadratic penalty C=-1, basepoint=T, discount=1., damp=0.\n",
    "# ADD DESCRIPTION\n",
    "\n",
    "# custom_execution_v0_training_no_dampening_101\n",
    "# eps_start = 0.8 eps_end = 0.02, discount = 1.0, linear episode decay, current_inv as reward\n",
    "# 1 run, i_0 = 400, oder_size=100, execution action space, with ?? convergence to almost optimal policy, trunc at 7, expl 1000 epis, eps_start 0.8, eps_end 0.02, lr 1e-4 to 1e-7 in 2000 epis , epis 2000, seeds 1, quadratic penalty C=-1, basepoint=T, discount=1., damp=0.\n",
    "# ADD DESCRIPTION\n",
    "\n",
    "# custom_execution_v0_training_no_dampening_102\n",
    "# eps_start = 0.8 eps_end = 0.02, discount = 1.0, linear episode decay, previous_inv as reward with linear terminal reward\n",
    "# 2 runs, i_0 = 400, oder_size=100, execution action space, with some convergence to optimal policy, trunc at 7, expl 1000 epis, eps_start 0.8, eps_end 0.02, lr 1e-4 to 1e-7 in 2000 epis , epis 2000, seeds 1, quadratic penalty C=-1, basepoint=T, discount=1., damp=0.\n",
    "# 1st run learned nothing, 2nd run close to optimal, narrow range, similar to runs with same setup but quadratic terminal reward\n",
    "# 3rd run with seed = 3 is running # ADD DECRIPTION\n",
    "\n",
    "# custom_execution_v0_training_no_dampening_103\n",
    "# eps_start = 0.8 eps_end = 0.02, discount = 1.0, linear episode decay, current as reward with flat terminal reward and 0 exploration\n",
    "# 2 runs, i_0 = 400, oder_size=100, execution action space, with some convergence to optimal policy, trunc at 7, expl 1000 epis, eps_start 0.8, eps_end 0.0, lr 1e-4 to 1e-7 in 2000 epis , epis 2000, seeds 1, quadratic penalty C=-1, basepoint=T, discount=1., damp=0.\n",
    "# both runs learned a solid policy, however both only reduced to the range [50, 100] and not furhter\n",
    "# -> not saved\n",
    "\n",
    "# ************************************************************************************************************************************************************************************************************************************************************************************************************\n",
    "# custom_execution_v0_training_no_dampening_104\n",
    "# eps_start = 0.8, eps_mid=0.02, eps_end = 0.0, discount = 1.0, linear episode decay, previous as reward with flat terminal reward\n",
    "# 2 runs, i_0 = 400, oder_size=100, execution action space, with ?? convergence to optimal policy, trunc at 7, expl mixed linear 2000 epis, eps_start 0.8, eps_mid=0.02 eps_end 0.0, lr 1e-4 to 1e-7 in 2000 epis , epis 2000, seeds 2,3, flat terminal penalty C=-1, basepoint=T, discount=1., damp=0.\n",
    "\n",
    "\n",
    "# TO TRY:\n",
    "# start with i_0=1400, i_max=2000\n",
    "\n"
   ]
  },
  {
   "cell_type": "markdown",
   "metadata": {},
   "source": [
    "## Training plots\n",
    "\n",
    "### Single training run"
   ]
  },
  {
   "cell_type": "code",
   "execution_count": null,
   "metadata": {},
   "outputs": [],
   "source": [
    "# select training run number for plotting\n",
    "run_id = 4\n",
    "utils.plot_run_results(training_results_dict, run_id, figsize=None)"
   ]
  },
  {
   "cell_type": "markdown",
   "metadata": {},
   "source": [
    "### Averaged training results\n",
    "\n",
    "And save each plot as single file in `..\\figures`. Each file name contains `date_time_id` of the corresponding file containing saved training results."
   ]
  },
  {
   "cell_type": "code",
   "execution_count": null,
   "metadata": {},
   "outputs": [],
   "source": [
    "utils.plot_mean_results(training_results_dict, figsize=None)\n",
    "#utils.save_mean_results_plots(training_results_dict, date_time_id=date_time_id, \n",
    "#                              file_name='custom_execution', show=False)"
   ]
  },
  {
   "cell_type": "markdown",
   "metadata": {},
   "source": [
    "### Single observation-action history\n",
    "\n",
    "To gain a more qualitative insight into the policies based on the learned Q-functions, we plot the observastion and action trajectories of a single training episode."
   ]
  },
  {
   "cell_type": "code",
   "execution_count": null,
   "metadata": {},
   "outputs": [],
   "source": [
    "run_id = 0\n",
    "episode_id = -1\n",
    "\n",
    "observation_history = list(training_results_dict[run_id][\"observations\"][episode_id])\n",
    "action_history = training_results_dict[run_id][\"actions\"][episode_id]\n",
    "\n",
    "utils.plot_observation_action_history(observation_history, action_history, \n",
    "                                      episode_id, n_actions=3)"
   ]
  },
  {
   "cell_type": "markdown",
   "metadata": {},
   "source": [
    "## Testing\n",
    "\n",
    "To load prior saved training results, set `load_training_results_flag` to True and paste trainings results' file name."
   ]
  },
  {
   "cell_type": "code",
   "execution_count": 35,
   "metadata": {},
   "outputs": [
    {
     "name": "stdout",
     "output_type": "stream",
     "text": [
      "***** training results 20241008_A loaded *****\n",
      "Performed training runs: 3. With parameters:\n",
      "\n",
      "{'sig_params': {'sig_depth': 5, 'basepoint': True, 'initial_bias': 0.1},\n",
      " 'training_params': {'episodes': 2000,\n",
      "                     'discount': 1.0,\n",
      "                     'learning_rate': 0.0001,\n",
      "                     'learning_rate_decay': {'mode': 'linear',\n",
      "                                             'end_value': 1e-07,\n",
      "                                             'epochs': 1800},\n",
      "                     'exploration': 'greedy',\n",
      "                     'epsilon': 0.8,\n",
      "                     'epsilon_decay': {'mode': 'linear',\n",
      "                                       'end_value': 0.02,\n",
      "                                       'epochs': 1000},\n",
      "                     'decay_mode': 'episodes',\n",
      "                     'debug_mode': None,\n",
      "                     'progress_display': 'livelossplot'},\n",
      " 'env_params': {'background_config': 'rmsc04',\n",
      "                'mkt_close': '10:06:00',\n",
      "                'timestep_duration': '10s',\n",
      "                'first_interval': '00:05:00',\n",
      "                'observation_interval': '00:00:00',\n",
      "                'order_fixed_size': 50,\n",
      "                'max_inventory': 1000,\n",
      "                'starting_inventory': 700,\n",
      "                'terminal_inventory_reward': -1.0,\n",
      "                'terminal_inventory_mode': 'quadratic',\n",
      "                'running_inventory_reward_dampener': 0.6,\n",
      "                'damp_mode': 'asymmetric',\n",
      "                'debug_mode': False}}\n"
     ]
    }
   ],
   "source": [
    "load_training_results_flag = True\n",
    "from pprint import pp as pprint\n",
    "\n",
    "if load_training_results_flag:\n",
    "    date_time_id = '20241008_A'\n",
    "    file_path = '../results/custom_execution_training_{}.pkl'.format(date_time_id)\n",
    "    # load training results\n",
    "    with open(file_path, 'rb') as fin:        \n",
    "        loaded_training_dict = pickle.load(fin)\n",
    "\n",
    "    env_params = loaded_training_dict[\"env_params\"]\n",
    "    sigq_params = loaded_training_dict[\"sig_params\"]\n",
    "    training_params = loaded_training_dict[\"training_params\"]\n",
    "    training_results_dict = loaded_training_dict[\"training_results\"]\n",
    "    final_Q_functions = loaded_training_dict[\"final_Q_functions\"]\n",
    "    n_runs = len(training_results_dict)\n",
    "    print(\"***** training results {} loaded *****\".format(date_time_id))\n",
    "    print('Performed training runs: {}. With parameters:\\n'.format(n_runs))\n",
    "    pprint({key: value for key, value in loaded_training_dict.items() if key not in ('training_results', 'final_Q_functions')})\n",
    "    del loaded_training_dict"
   ]
  },
  {
   "cell_type": "markdown",
   "metadata": {},
   "source": [
    "### Test a Q-function estimate\n",
    "\n",
    "We test the Q-functions learning in training. If an intermediate Q-function estimate saved at some checkpoint instead of the last one for each training run should be tested, set `checkpoint_policy_flag` to True and select a checkpoint."
   ]
  },
  {
   "cell_type": "code",
   "execution_count": 36,
   "metadata": {},
   "outputs": [
    {
     "data": {
      "application/json": {
       "ascii": false,
       "bar_format": null,
       "colour": null,
       "elapsed": 0.0064928531646728516,
       "initial": 0,
       "n": 0,
       "ncols": null,
       "nrows": null,
       "postfix": null,
       "prefix": "",
       "rate": null,
       "total": 3,
       "unit": "it",
       "unit_divisor": 1000,
       "unit_scale": false
      },
      "application/vnd.jupyter.widget-view+json": {
       "model_id": "c2dbaf4c1c6f4cc9a8a3b1da19a05fd2",
       "version_major": 2,
       "version_minor": 0
      },
      "text/plain": [
       "  0%|          | 0/3 [00:00<?, ?it/s]"
      ]
     },
     "metadata": {},
     "output_type": "display_data"
    },
    {
     "data": {
      "application/json": {
       "ascii": false,
       "bar_format": null,
       "colour": null,
       "elapsed": 0.008598089218139648,
       "initial": 0,
       "n": 0,
       "ncols": null,
       "nrows": null,
       "postfix": null,
       "prefix": "",
       "rate": null,
       "total": 20,
       "unit": "it",
       "unit_divisor": 1000,
       "unit_scale": false
      },
      "application/vnd.jupyter.widget-view+json": {
       "model_id": "c2fb62209bce403d8da162a374989f1b",
       "version_major": 2,
       "version_minor": 0
      },
      "text/plain": [
       "  0%|          | 0/20 [00:00<?, ?it/s]"
      ]
     },
     "metadata": {},
     "output_type": "display_data"
    },
    {
     "name": "stdout",
     "output_type": "stream",
     "text": [
      "Episode 0 | Reward -0.12932 | Inventory 26 | Steps in run 186\n",
      "Episode 1 | Reward -0.17965 | Inventory 96 | Steps in run 372\n",
      "Episode 2 | Reward -0.09831 | Inventory -64 | Steps in run 558\n",
      "Episode 3 | Reward -0.26126 | Inventory 308 | Steps in run 744\n",
      "Episode 4 | Reward -0.16232 | Inventory 48 | Steps in run 930\n",
      "Episode 5 | Reward -0.03366 | Inventory 128 | Steps in run 1116\n",
      "Episode 6 | Reward -0.09817 | Inventory -49 | Steps in run 1302\n",
      "Episode 7 | Reward -0.71497 | Inventory 354 | Steps in run 1488\n",
      "Episode 8 | Reward -0.09761 | Inventory 24 | Steps in run 1674\n",
      "Episode 9 | Reward -0.05392 | Inventory 289 | Steps in run 1860\n",
      "Episode 10 | Reward -0.19065 | Inventory 390 | Steps in run 2046\n",
      "Episode 11 | Reward -0.03873 | Inventory -6 | Steps in run 2232\n",
      "Episode 12 | Reward -0.19803 | Inventory 78 | Steps in run 2418\n",
      "Episode 13 | Reward -0.32456 | Inventory -11 | Steps in run 2604\n",
      "Episode 14 | Reward -0.03233 | Inventory -7 | Steps in run 2790\n",
      "Episode 15 | Reward -0.10909 | Inventory 113 | Steps in run 2976\n",
      "Episode 16 | Reward -0.05948 | Inventory 99 | Steps in run 3162\n",
      "Episode 17 | Reward -0.12865 | Inventory 0 | Steps in run 3348\n",
      "Episode 18 | Reward -0.03129 | Inventory 7 | Steps in run 3534\n",
      "Episode 19 | Reward -0.06750 | Inventory 19 | Steps in run 3720\n"
     ]
    },
    {
     "data": {
      "application/json": {
       "ascii": false,
       "bar_format": null,
       "colour": null,
       "elapsed": 0.011306047439575195,
       "initial": 0,
       "n": 0,
       "ncols": null,
       "nrows": null,
       "postfix": null,
       "prefix": "",
       "rate": null,
       "total": 20,
       "unit": "it",
       "unit_divisor": 1000,
       "unit_scale": false
      },
      "application/vnd.jupyter.widget-view+json": {
       "model_id": "ea988147ff664233a96aa87f63f737bc",
       "version_major": 2,
       "version_minor": 0
      },
      "text/plain": [
       "  0%|          | 0/20 [00:00<?, ?it/s]"
      ]
     },
     "metadata": {},
     "output_type": "display_data"
    },
    {
     "name": "stdout",
     "output_type": "stream",
     "text": [
      "Episode 0 | Reward 0.02249 | Inventory 49 | Steps in run 186\n",
      "Episode 1 | Reward -0.07518 | Inventory 42 | Steps in run 372\n",
      "Episode 2 | Reward -0.03343 | Inventory 72 | Steps in run 558\n",
      "Episode 3 | Reward -0.12038 | Inventory 298 | Steps in run 744\n",
      "Episode 4 | Reward -0.17361 | Inventory 229 | Steps in run 930\n",
      "Episode 5 | Reward -0.10066 | Inventory 26 | Steps in run 1116\n",
      "Episode 6 | Reward -0.15334 | Inventory 144 | Steps in run 1302\n",
      "Episode 7 | Reward -0.22516 | Inventory 187 | Steps in run 1488\n",
      "Episode 8 | Reward -0.10864 | Inventory 96 | Steps in run 1674\n",
      "Episode 9 | Reward -0.36806 | Inventory 101 | Steps in run 1860\n",
      "Episode 10 | Reward -0.07898 | Inventory 139 | Steps in run 2046\n",
      "Episode 11 | Reward -0.12397 | Inventory 130 | Steps in run 2232\n",
      "Episode 12 | Reward -0.38856 | Inventory 106 | Steps in run 2418\n",
      "Episode 13 | Reward -0.47714 | Inventory 132 | Steps in run 2604\n",
      "Episode 14 | Reward -0.31636 | Inventory 125 | Steps in run 2790\n",
      "Episode 15 | Reward 0.03851 | Inventory 139 | Steps in run 2976\n",
      "Episode 16 | Reward -0.04670 | Inventory 100 | Steps in run 3162\n",
      "Episode 17 | Reward -0.32995 | Inventory 150 | Steps in run 3348\n",
      "Episode 18 | Reward -0.06260 | Inventory 144 | Steps in run 3534\n",
      "Episode 19 | Reward -0.58724 | Inventory 269 | Steps in run 3720\n"
     ]
    },
    {
     "data": {
      "application/json": {
       "ascii": false,
       "bar_format": null,
       "colour": null,
       "elapsed": 0.010205984115600586,
       "initial": 0,
       "n": 0,
       "ncols": null,
       "nrows": null,
       "postfix": null,
       "prefix": "",
       "rate": null,
       "total": 20,
       "unit": "it",
       "unit_divisor": 1000,
       "unit_scale": false
      },
      "application/vnd.jupyter.widget-view+json": {
       "model_id": "5b8a0151b2a444338ac22fcca39f2ba2",
       "version_major": 2,
       "version_minor": 0
      },
      "text/plain": [
       "  0%|          | 0/20 [00:00<?, ?it/s]"
      ]
     },
     "metadata": {},
     "output_type": "display_data"
    },
    {
     "name": "stdout",
     "output_type": "stream",
     "text": [
      "Episode 0 | Reward -0.09880 | Inventory -83 | Steps in run 186\n",
      "Episode 1 | Reward -0.04597 | Inventory 100 | Steps in run 372\n",
      "Episode 2 | Reward -0.16253 | Inventory 57 | Steps in run 558\n",
      "Episode 3 | Reward -0.04860 | Inventory 36 | Steps in run 744\n",
      "Episode 4 | Reward -0.04033 | Inventory -8 | Steps in run 930\n",
      "Episode 5 | Reward -0.32267 | Inventory 39 | Steps in run 1116\n",
      "Episode 6 | Reward -0.07362 | Inventory 156 | Steps in run 1302\n",
      "Episode 7 | Reward -0.03355 | Inventory 50 | Steps in run 1488\n",
      "Episode 8 | Reward -0.02448 | Inventory 101 | Steps in run 1674\n",
      "Episode 9 | Reward -0.30842 | Inventory 20 | Steps in run 1860\n",
      "Episode 10 | Reward -0.16995 | Inventory 0 | Steps in run 2046\n",
      "Episode 11 | Reward -0.23665 | Inventory -50 | Steps in run 2232\n",
      "Episode 12 | Reward -0.05322 | Inventory 7 | Steps in run 2418\n",
      "Episode 13 | Reward -0.12364 | Inventory 104 | Steps in run 2604\n",
      "Episode 14 | Reward -0.01572 | Inventory -47 | Steps in run 2790\n",
      "Episode 15 | Reward 0.00420 | Inventory 50 | Steps in run 2976\n",
      "Episode 16 | Reward -0.19565 | Inventory 180 | Steps in run 3162\n",
      "Episode 17 | Reward -0.05430 | Inventory 50 | Steps in run 3348\n",
      "Episode 18 | Reward -0.10435 | Inventory -85 | Steps in run 3534\n",
      "Episode 19 | Reward -0.36518 | Inventory 139 | Steps in run 3720\n"
     ]
    }
   ],
   "source": [
    "checkpoint_flag = True\n",
    "checkpoint = -1\n",
    "\n",
    "n_test_episodes = 20\n",
    "test_results_dict = {run : [] for run in range(n_runs)}\n",
    "seeds = utils.generate_prime_seeds(100, shuffle=True)\n",
    "\n",
    "runs_pbar = tqdm(test_results_dict.keys())\n",
    "for run in runs_pbar:\n",
    "    runs_pbar.set_description(f\"Test run\")\n",
    "\n",
    "    env = generate_env(seeds[run])\n",
    "    sigqfunction = SigQFunction(env, **sigq_params)\n",
    "    state_dict = final_Q_functions[run] if not checkpoint_flag \\\n",
    "        else training_results_dict[run][\"intermediate\"][checkpoint]\n",
    "    sigqfunction.load_state_dict(state_dict)\n",
    "    \n",
    "    test_results_dict[run] = test(env, sigqfunction, n_test_episodes, debug_mode=\"info\", \n",
    "                                  epsilon=0.02)\n",
    "    del sigqfunction, env # for safety in case env.reset() does not work properly"
   ]
  },
  {
   "cell_type": "markdown",
   "metadata": {},
   "source": [
    "### Save test results"
   ]
  },
  {
   "cell_type": "code",
   "execution_count": 14,
   "metadata": {},
   "outputs": [],
   "source": [
    "execute_cell_flag = False\n",
    "\n",
    "if execute_cell_flag:\n",
    "    file_path = '../results/custom_execution_test_results_{}.pkl'.format(date_time_id)\n",
    "    with open(file_path, 'wb') as fout:  \n",
    "        pickle.dump(test_results_dict, fout)"
   ]
  },
  {
   "cell_type": "markdown",
   "metadata": {},
   "source": [
    "## Test statistics\n",
    "\n",
    "The following statisitcs are reported for each test run:\n",
    "- Mean reward and standard deviation\n",
    "- Mean terminal inventory and standard deviation\n",
    "- Minimum / maximum inventory in test run\n",
    "- Mean terminal cash and standard deviation\n",
    "- First observation value"
   ]
  },
  {
   "cell_type": "code",
   "execution_count": 37,
   "metadata": {},
   "outputs": [
    {
     "name": "stdout",
     "output_type": "stream",
     "text": [
      "           Mean       Std    Mean terminal    Std terminal    Min terminal    Max terminal    Initial\n",
      "         reward    reward        inventory       inventory       inventory       inventory      value\n",
      "-----  --------  --------  ---------------  --------------  --------------  --------------  ---------\n",
      "Run 0   -0.1505    0.1510          92.1000        132.4907             -64             390    -0.1358\n",
      "Run 1   -0.1854    0.1669         133.9000         68.2758              26             298    -0.1636\n",
      "Run 2   -0.1237    0.1076          40.8000         73.0353             -85             180    -0.1316\n"
     ]
    }
   ],
   "source": [
    "test_stats = []\n",
    "cols = ['Mean\\nreward', 'Std\\nreward', 'Mean terminal\\ninventory', 'Std terminal\\ninventory',\n",
    "        'Min terminal\\ninventory', 'Max terminal\\ninventory', 'Initial\\nvalue']\n",
    "rows = ['Run {}'.format(i) for i in range(n_runs)]\n",
    "\n",
    "for test_run in test_results_dict.values():\n",
    "    run_stats = []\n",
    "    run_stats.append(np.mean(test_run['rewards'])) # mean reward\n",
    "    run_stats.append(np.std(test_run['rewards'])) # std reward\n",
    "    run_stats.append(np.mean(test_run['terminal_inventories'])) # mean terminal inventory\n",
    "    run_stats.append(np.std(test_run['terminal_inventories'])) # std terminal inventory\n",
    "    run_stats.append(int(np.min(test_run['terminal_inventories']))) # min terminal inventory\n",
    "    run_stats.append(int(np.max(test_run['terminal_inventories']))) # max terminal inventory\n",
    "    run_stats.append(test_run['initial_values'][-1])\n",
    "\n",
    "    test_stats.append(run_stats)\n",
    " \n",
    "print(tabulate.tabulate(test_stats, headers=cols, showindex=rows, floatfmt='.4f'))"
   ]
  },
  {
   "cell_type": "markdown",
   "metadata": {},
   "source": [
    "## Test plots\n",
    "\n",
    "### Single test run and episode"
   ]
  },
  {
   "cell_type": "code",
   "execution_count": null,
   "metadata": {},
   "outputs": [],
   "source": [
    "utils.plot_test_run_results(test_results_dict, run_id=0, ma_window=5, figsize=(6, 4))"
   ]
  },
  {
   "cell_type": "markdown",
   "metadata": {},
   "source": [
    "### Confidence intervals"
   ]
  },
  {
   "cell_type": "code",
   "execution_count": null,
   "metadata": {},
   "outputs": [],
   "source": [
    "conf_int_rewards, mean_std_error_reward = utils.compute_confidence_intervals(\n",
    "    test_results_dict, 'rewards'\n",
    ")\n",
    "print(f'\\nMean std error of mean reward: {mean_std_error_reward:.4f}')\n",
    "utils.plot_confidence_intervals(conf_int_rewards, 'rewards', figsize=None,\n",
    "                                save=True, date_time_id=date_time_id)"
   ]
  },
  {
   "cell_type": "markdown",
   "metadata": {},
   "source": [
    "## First observation value convergence\n",
    "\n",
    "**Note**: We need to compare trajectory of the first observation value as provided by the Q-function approximations during training, with the average episode reward once all runs are performed. If the reward and the first observation value converge towards the same value, this is an indication that the algorithm has converged. Note, however, that this does not necessariliy mean that the Q-function approximation has converged to the true optimal Q-functions.\n",
    "\n",
    "### With intermediate Q functions"
   ]
  },
  {
   "cell_type": "code",
   "execution_count": 38,
   "metadata": {},
   "outputs": [
    {
     "name": "stdout",
     "output_type": "stream",
     "text": [
      "observe first interval: False\n",
      "tensor([[[1.0000, 0.7000],\n",
      "         [0.9946, 0.7000]]])\n"
     ]
    },
    {
     "data": {
      "image/png": "[encoded data removed]",
      "text/plain": [
       "<Figure size 640x480 with 1 Axes>"
      ]
     },
     "metadata": {},
     "output_type": "display_data"
    }
   ],
   "source": [
    "import torch\n",
    "import math\n",
    "\n",
    "run_id = 0\n",
    "mean_epis = 100\n",
    "env = generate_env()\n",
    "\n",
    "observation_interval_flag = True if env.observation_interval > 0 else False\n",
    "print(\"observe first interval: {}\".format(observation_interval_flag))\n",
    "\n",
    "first_obs_values = []\n",
    "policy = SigQFunction(env, **sigq_params)\n",
    "\n",
    "if observation_interval_flag:\n",
    "    # steps to only observe\n",
    "    do_nothing_steps = max(1, math.floor(env.observation_interval / env.timestep_duration))\n",
    "    first_history = list(training_results_dict[run_id][\"observations\"][0])[0:do_nothing_steps+1]\n",
    "else:\n",
    "    # initial observation\n",
    "    first_history = list(training_results_dict[run_id][\"observations\"][0])[0:2]\n",
    "first_history = torch.tensor(\n",
    "    first_history, requires_grad=False, dtype=torch.float\n",
    ").unsqueeze(0)\n",
    "print(first_history)\n",
    "\n",
    "for state_dict in training_results_dict[run_id][\"intermediate\"]: \n",
    "    policy.load_state_dict(state_dict)    \n",
    "    policy.eval()\n",
    "    sig = policy.compute_signature(first_history)  \n",
    "    first_obs_values.append(max(policy(sig)[0].detach()).item())\n",
    "    #policy.train()     \n",
    "\n",
    "plt.plot(first_obs_values)\n",
    "mean_reward = torch.tensor(training_results_dict[run_id][\"rewards\"][-mean_epis:]).mean()\n",
    "plt.plot([mean_reward for _ in range(len(first_obs_values))])\n",
    "plt.legend([\"First observation value\", f\"Mean reward ({mean_epis})\"], loc=\"best\")\n",
    "plt.show()\n"
   ]
  },
  {
   "cell_type": "markdown",
   "metadata": {},
   "source": [
    "### With saved first observation values"
   ]
  },
  {
   "cell_type": "code",
   "execution_count": 39,
   "metadata": {},
   "outputs": [
    {
     "data": {
      "image/png": "[encoded data removed]",
      "text/plain": [
       "<Figure size 640x480 with 1 Axes>"
      ]
     },
     "metadata": {},
     "output_type": "display_data"
    }
   ],
   "source": [
    "run_id = 0\n",
    "mean_epis = 100\n",
    "\n",
    "first_obs_values = torch.stack(training_results_dict[0]['first_Q_values'], dim=0)\n",
    "plt.plot(first_obs_values)\n",
    "mean_reward = torch.tensor(training_results_dict[run_id][\"rewards\"][-mean_epis:]).mean()\n",
    "plt.plot([mean_reward for _ in range(len(first_obs_values))])\n",
    "plt.legend([\"First observation value\", f\"Mean reward ({mean_epis})\"], loc=\"best\")\n",
    "plt.legend([\"A0\",\"A1\", \"A2\", f\"Mean reward ({mean_epis})\"], loc=\"best\")\n",
    "plt.show()"
   ]
  },
  {
   "cell_type": "markdown",
   "metadata": {},
   "source": [
    "## Baseline policy\n",
    "\n",
    "The baseline policy sells its inventory as long as the absolute inventory value is above 5% of the maximal inventory and afterwards stops trading until the end of the episode. It is exactly the policy the RL agent is supposed to learn and offers a baseline reward to compare it against."
   ]
  },
  {
   "cell_type": "code",
   "execution_count": 40,
   "metadata": {},
   "outputs": [
    {
     "data": {
      "application/json": {
       "ascii": false,
       "bar_format": null,
       "colour": null,
       "elapsed": 0.014229059219360352,
       "initial": 0,
       "n": 0,
       "ncols": null,
       "nrows": null,
       "postfix": null,
       "prefix": "",
       "rate": null,
       "total": 50,
       "unit": "it",
       "unit_divisor": 1000,
       "unit_scale": false
      },
      "application/vnd.jupyter.widget-view+json": {
       "model_id": "27c2dd5568474b3cafca98c906db1e5d",
       "version_major": 2,
       "version_minor": 0
      },
      "text/plain": [
       "  0%|          | 0/50 [00:00<?, ?it/s]"
      ]
     },
     "metadata": {},
     "output_type": "display_data"
    },
    {
     "name": "stdout",
     "output_type": "stream",
     "text": [
      "Episode 0 | Reward -0.03097 | Inventory 0 | Steps in run 186\n",
      "Episode 1 | Reward -0.00520 | Inventory 0 | Steps in run 372\n",
      "Episode 2 | Reward -0.01503 | Inventory 1 | Steps in run 558\n",
      "Episode 3 | Reward -0.15878 | Inventory 7 | Steps in run 744\n",
      "Episode 4 | Reward -0.09906 | Inventory -6 | Steps in run 930\n",
      "Episode 5 | Reward -0.14972 | Inventory -21 | Steps in run 1116\n",
      "Episode 6 | Reward -0.06894 | Inventory -6 | Steps in run 1302\n",
      "Episode 7 | Reward -0.55568 | Inventory -1 | Steps in run 1488\n",
      "Episode 8 | Reward -0.15702 | Inventory 6 | Steps in run 1674\n",
      "Episode 9 | Reward -0.20573 | Inventory 17 | Steps in run 1860\n",
      "Episode 10 | Reward -0.00259 | Inventory 1 | Steps in run 2046\n",
      "Episode 11 | Reward -0.08113 | Inventory -17 | Steps in run 2232\n",
      "Episode 12 | Reward -0.13908 | Inventory 6 | Steps in run 2418\n",
      "Episode 13 | Reward -0.01728 | Inventory -21 | Steps in run 2604\n",
      "Episode 14 | Reward -0.29768 | Inventory 19 | Steps in run 2790\n",
      "Episode 15 | Reward -0.05340 | Inventory 0 | Steps in run 2976\n",
      "Episode 16 | Reward -0.04720 | Inventory 6 | Steps in run 3162\n",
      "Episode 17 | Reward -0.06545 | Inventory 0 | Steps in run 3348\n",
      "Episode 18 | Reward -0.05524 | Inventory 3 | Steps in run 3534\n",
      "Episode 19 | Reward -0.02257 | Inventory -7 | Steps in run 3720\n",
      "Episode 20 | Reward 0.00420 | Inventory 0 | Steps in run 3906\n",
      "Episode 21 | Reward -0.01814 | Inventory 14 | Steps in run 4092\n",
      "Episode 22 | Reward -0.00435 | Inventory 0 | Steps in run 4278\n",
      "Episode 23 | Reward -0.00594 | Inventory 21 | Steps in run 4464\n",
      "Episode 24 | Reward 0.01368 | Inventory -22 | Steps in run 4650\n",
      "Episode 25 | Reward -0.01106 | Inventory -16 | Steps in run 4836\n",
      "Episode 26 | Reward -0.03899 | Inventory -4 | Steps in run 5022\n",
      "Episode 27 | Reward -0.10958 | Inventory 8 | Steps in run 5208\n",
      "Episode 28 | Reward -0.24225 | Inventory 5 | Steps in run 5394\n",
      "Episode 29 | Reward -0.07223 | Inventory 7 | Steps in run 5580\n",
      "Episode 30 | Reward -0.12993 | Inventory -13 | Steps in run 5766\n",
      "Episode 31 | Reward -0.06860 | Inventory 8 | Steps in run 5952\n",
      "Episode 32 | Reward -0.04715 | Inventory 23 | Steps in run 6138\n",
      "Episode 33 | Reward 0.01164 | Inventory 4 | Steps in run 6324\n",
      "Episode 34 | Reward -0.06876 | Inventory -19 | Steps in run 6510\n",
      "Episode 35 | Reward -0.06207 | Inventory -13 | Steps in run 6696\n",
      "Episode 36 | Reward 0.01594 | Inventory 11 | Steps in run 6882\n",
      "Episode 37 | Reward -0.05677 | Inventory 15 | Steps in run 7068\n",
      "Episode 38 | Reward -0.09091 | Inventory 11 | Steps in run 7254\n",
      "Episode 39 | Reward -0.02969 | Inventory -24 | Steps in run 7440\n",
      "Episode 40 | Reward -0.08507 | Inventory -12 | Steps in run 7626\n",
      "Episode 41 | Reward -0.00270 | Inventory 0 | Steps in run 7812\n",
      "Episode 42 | Reward -0.06372 | Inventory 5 | Steps in run 7998\n",
      "Episode 43 | Reward -0.01197 | Inventory -8 | Steps in run 8184\n",
      "Episode 44 | Reward -0.11712 | Inventory 23 | Steps in run 8370\n",
      "Episode 45 | Reward -0.00078 | Inventory -18 | Steps in run 8556\n",
      "Episode 46 | Reward -0.20523 | Inventory -2 | Steps in run 8742\n",
      "Episode 47 | Reward -0.02500 | Inventory 0 | Steps in run 8928\n",
      "Episode 48 | Reward -0.22954 | Inventory 3 | Steps in run 9114\n",
      "Episode 49 | Reward -0.10228 | Inventory 22 | Steps in run 9300\n"
     ]
    }
   ],
   "source": [
    "env = generate_env()\n",
    "baseline_run = run_baseline(env, 50, debug_mode=\"info\")"
   ]
  },
  {
   "cell_type": "markdown",
   "metadata": {},
   "source": [
    "### Baseline statistics"
   ]
  },
  {
   "cell_type": "code",
   "execution_count": 41,
   "metadata": {},
   "outputs": [
    {
     "name": "stdout",
     "output_type": "stream",
     "text": [
      "    Mean       Std    Mean terminal    Std terminal    Min terminal    Max terminal\n",
      "  reward    reward        inventory       inventory       inventory       inventory\n",
      "--------  --------  ---------------  --------------  --------------  --------------\n",
      " -0.0816    0.0988           0.3200         12.3052             -24              23\n"
     ]
    }
   ],
   "source": [
    "baseline_stats = []\n",
    "cols = [\n",
    "    'Mean\\nreward', 'Std\\nreward', 'Mean terminal\\ninventory', \n",
    "    'Std terminal\\ninventory', 'Min terminal\\ninventory', 'Max terminal\\ninventory' \n",
    "]\n",
    "\n",
    "baseline_stats.append(np.mean(baseline_run['rewards'])) # mean reward\n",
    "baseline_stats.append(np.std(baseline_run['rewards'])) # std reward\n",
    "baseline_stats.append(np.mean(baseline_run['terminal_inventories'])) # mean terminal inventory\n",
    "baseline_stats.append(np.std(baseline_run['terminal_inventories'])) # std terminal inventory\n",
    "baseline_stats.append(int(np.min(baseline_run['terminal_inventories']))) # min terminal inventory\n",
    "baseline_stats.append(int(np.max(baseline_run['terminal_inventories']))) # max terminal inventory\n",
    "\n",
    "print(tabulate.tabulate([baseline_stats], headers=cols, floatfmt='.4f'))"
   ]
  },
  {
   "cell_type": "markdown",
   "metadata": {},
   "source": [
    "### Baseline plots"
   ]
  },
  {
   "cell_type": "code",
   "execution_count": null,
   "metadata": {},
   "outputs": [],
   "source": [
    "utils.plot_baseline_results(baseline_run, episode_id=-1, ma_window=5, figsize=(6, 4))"
   ]
  }
 ],
 "metadata": {
  "kernelspec": {
   "display_name": "venv",
   "language": "python",
   "name": "python3"
  },
  "language_info": {
   "codemirror_mode": {
    "name": "ipython",
    "version": 3
   },
   "file_extension": ".py",
   "mimetype": "text/x-python",
   "name": "python",
   "nbconvert_exporter": "python",
   "pygments_lexer": "ipython3",
   "version": "3.8.0"
  },
  "orig_nbformat": 4
 },
 "nbformat": 4,
 "nbformat_minor": 2
}
